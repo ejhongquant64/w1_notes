{
 "cells": [
  {
   "cell_type": "markdown",
   "id": "35bb6a86-2bf0-4976-9335-9f46a335b109",
   "metadata": {},
   "source": [
    "# Basic Python Programming"
   ]
  },
  {
   "cell_type": "markdown",
   "id": "d9d5535a-c327-483b-9570-4c1b72875b31",
   "metadata": {},
   "source": [
    "## Basic Python Syntax and Operations"
   ]
  },
  {
   "cell_type": "markdown",
   "id": "5fba30b3-f8bf-474d-8f17-4c6ab4e39936",
   "metadata": {},
   "source": [
    "### A. Variables and Basic Types\n",
    "- Integers and Floats:"
   ]
  },
  {
   "cell_type": "code",
   "execution_count": null,
   "id": "b1c02428-9ea4-42f1-92a8-eade263ecebc",
   "metadata": {},
   "outputs": [],
   "source": [
    "x = 10  # Integer\n",
    "y = 20.5  # Float\n",
    "print(x)\n",
    "print(y)"
   ]
  },
  {
   "cell_type": "markdown",
   "id": "9bd9a394-ca0c-483c-be43-72835c2a4b79",
   "metadata": {},
   "source": [
    "- Strings:"
   ]
  },
  {
   "cell_type": "code",
   "execution_count": null,
   "id": "c8edf7ce-a5a2-4be4-881b-bd8a4d0bbde2",
   "metadata": {},
   "outputs": [],
   "source": [
    "message = \"Hello, Physics World!\"\n",
    "print(message)"
   ]
  },
  {
   "cell_type": "markdown",
   "id": "6dd0988b-b399-4d58-a040-991af2484b1d",
   "metadata": {},
   "source": [
    "- Lists (for storing multiple items):"
   ]
  },
  {
   "cell_type": "code",
   "execution_count": null,
   "id": "b2110839-7ed3-4fe1-8d8b-f40fa4e99ec8",
   "metadata": {},
   "outputs": [],
   "source": [
    "numbers = [1, 2, 3, 4, 5]\n",
    "print(numbers)"
   ]
  },
  {
   "cell_type": "markdown",
   "id": "040fbf4a-286f-451e-956a-54a6a22fff4c",
   "metadata": {},
   "source": [
    "### B. Basic Operations\n",
    "- Arithmetic Operations:"
   ]
  },
  {
   "cell_type": "code",
   "execution_count": null,
   "id": "ef9c8640-8412-4e75-ad8b-128b6279c3a2",
   "metadata": {},
   "outputs": [],
   "source": [
    "a = 5\n",
    "b = 3\n",
    "print(a + b)\n",
    "print(a - b) \n",
    "print(a * b)\n",
    "print(a / b)\n",
    "print(a ** b)"
   ]
  },
  {
   "cell_type": "markdown",
   "id": "43bb659a-2de3-46df-ba43-4a8ba9ac23d6",
   "metadata": {},
   "source": [
    "- String Concatenation:"
   ]
  },
  {
   "cell_type": "code",
   "execution_count": null,
   "id": "6e5465e3-15a0-43b5-956f-5365e3da7b0e",
   "metadata": {},
   "outputs": [],
   "source": [
    "first_name = \"Isaac\"\n",
    "last_name = \"Newton\"\n",
    "full_name = first_name + \" \" + last_name\n",
    "print(full_name)"
   ]
  },
  {
   "cell_type": "markdown",
   "id": "80e67d66-8e15-4a7e-8915-08a545fd0a92",
   "metadata": {},
   "source": [
    "### C. Control Structures\n",
    "- If-Else Statements:"
   ]
  },
  {
   "cell_type": "code",
   "execution_count": null,
   "id": "ff1c15f5-38c5-4b6b-8323-821169d3adfb",
   "metadata": {},
   "outputs": [],
   "source": [
    "number = 10\n",
    "if number > 0:\n",
    "    print(\"The number is positive.\")\n",
    "elif number == 0:\n",
    "    print(\"The number is zero.\")\n",
    "else:\n",
    "    print(\"The number is negative.\")"
   ]
  },
  {
   "cell_type": "markdown",
   "id": "3eb9a521-0854-44f5-9f71-455c184e17b9",
   "metadata": {},
   "source": [
    "- For Loops (iterating over a sequence):"
   ]
  },
  {
   "cell_type": "code",
   "execution_count": null,
   "id": "4bc6e38e-cb7d-4544-a624-a93822861797",
   "metadata": {},
   "outputs": [],
   "source": [
    "for i in range(5):\n",
    "    print(i**2)"
   ]
  },
  {
   "cell_type": "markdown",
   "id": "79209a2c-094d-40be-a6c7-c0d72ed4132c",
   "metadata": {},
   "source": [
    "- While Loops:"
   ]
  },
  {
   "cell_type": "code",
   "execution_count": null,
   "id": "849c0f7d-2913-4af0-9e00-da69f36d8214",
   "metadata": {},
   "outputs": [],
   "source": [
    "count = 0\n",
    "while count < 5:\n",
    "    print(count)\n",
    "    count += 1"
   ]
  },
  {
   "cell_type": "markdown",
   "id": "e213459d-9f6f-4fb4-bc2a-b82156e6f238",
   "metadata": {},
   "source": [
    "### D. Functions\n",
    "- Defining and Calling Functions:"
   ]
  },
  {
   "cell_type": "code",
   "execution_count": null,
   "id": "0ac0c4c5-8b8c-49a1-a96d-58f7dbc04ad9",
   "metadata": {},
   "outputs": [],
   "source": [
    "def area_circle(radius):\n",
    "    return 3.14159 * radius ** 2\n",
    "\n",
    "print(area_circle(5))"
   ]
  },
  {
   "cell_type": "markdown",
   "id": "b6af3f9c-5a7e-4ba9-b998-4b2914c95da0",
   "metadata": {},
   "source": [
    "### E. List and Indexing\n",
    "- Manipulating Lists:"
   ]
  },
  {
   "cell_type": "code",
   "execution_count": null,
   "id": "e10d050b-e026-419f-be55-e6d56cb1e76f",
   "metadata": {},
   "outputs": [],
   "source": [
    "my_list = [1, 2, 3, 'physics', 4.5]\n",
    "print(my_list[0])  # Indexing\n",
    "my_list.append(6)  # Adding an element\n",
    "print(my_list)\n",
    "print(my_list[1:4])  # Slicing"
   ]
  },
  {
   "cell_type": "markdown",
   "id": "9e121656-08f3-4f61-ba6c-2df131b38d71",
   "metadata": {},
   "source": [
    "### F. Dictionaries\n",
    "- Key-Value Pairs:"
   ]
  },
  {
   "cell_type": "code",
   "execution_count": null,
   "id": "d7e34c49-0f9c-43f9-80ac-36aad757ce26",
   "metadata": {},
   "outputs": [],
   "source": [
    "physicists = {\"Newton\": \"Classical Mechanics\", \"Einstein\": \"Relativity\"}\n",
    "print(physicists[\"Einstein\"])\n",
    "physicists[\"Bohr\"] = \"Quantum Mechanics\"\n",
    "print(physicists)"
   ]
  },
  {
   "cell_type": "markdown",
   "id": "1b1a4c94-b621-48d1-8f2e-378523a4741e",
   "metadata": {},
   "source": [
    "### G. Importing Modules\n",
    "- Using NumPy for Calculations:"
   ]
  },
  {
   "cell_type": "code",
   "execution_count": null,
   "id": "927f6329-061d-43a8-945b-e39610d17e22",
   "metadata": {},
   "outputs": [],
   "source": [
    "import numpy as np\n",
    "\n",
    "data = np.array([1, 2, 3, 4, 5])\n",
    "print(np.mean(data))"
   ]
  }
 ],
 "metadata": {
  "kernelspec": {
   "display_name": "Python 3 (ipykernel)",
   "language": "python",
   "name": "python3"
  },
  "language_info": {
   "codemirror_mode": {
    "name": "ipython",
    "version": 3
   },
   "file_extension": ".py",
   "mimetype": "text/x-python",
   "name": "python",
   "nbconvert_exporter": "python",
   "pygments_lexer": "ipython3",
   "version": "3.12.7"
  }
 },
 "nbformat": 4,
 "nbformat_minor": 5
}
